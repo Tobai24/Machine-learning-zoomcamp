{
 "cells": [
  {
   "cell_type": "markdown",
   "metadata": {},
   "source": [
    "## Homework\n",
    "\n",
    "> Note: sometimes your answer doesn't match one of the options exactly. \n",
    "> That's fine. \n",
    "> Select the option that's closest to your solution.\n",
    "\n",
    "> Note: we recommend using python 3.11 in this homework.\n",
    "\n",
    "## Question 1\n",
    "\n",
    "* Install Pipenv\n",
    "* What's the version of pipenv you installed?\n",
    "* Use `--version` to find out"
   ]
  },
  {
   "cell_type": "code",
   "execution_count": 5,
   "metadata": {},
   "outputs": [
    {
     "name": "stdout",
     "output_type": "stream",
     "text": [
      "pipenv, version 2024.2.0\n"
     ]
    }
   ],
   "source": [
    "!pipenv --version"
   ]
  },
  {
   "cell_type": "markdown",
   "metadata": {},
   "source": [
    "**Ans:** _version 2024.2.0_"
   ]
  },
  {
   "cell_type": "markdown",
   "metadata": {},
   "source": [
    "## Question 2\n",
    "\n",
    "* Use Pipenv to install Scikit-Learn version 1.5.2\n",
    "* What's the first hash for scikit-learn you get in Pipfile.lock?\n",
    "\n",
    "> **Note**: you should create an empty folder for homework\n",
    "and do it there. "
   ]
  },
  {
   "cell_type": "code",
   "execution_count": 8,
   "metadata": {},
   "outputs": [
    {
     "name": "stdout",
     "output_type": "stream",
     "text": [
      "To activate this project's virtualenv, run pipenv shell.\n",
      "Alternatively, run a command inside the virtualenv with pipenv run.\n",
      "Installing scikit-learn==1.5.2...\n",
      "Installation Succeeded\n",
      "Building requirements...\n",
      "[    ] Locking packages...\n",
      "Resolving dependencies...\n",
      "[    ] Locking packages...\n",
      "[=   ] Locking packages...\n",
      "[==  ] Locking packages...\n",
      "[=== ] Locking packages...\n",
      "[ ===] Locking packages...\n",
      "[  ==] Locking packages...\n",
      "[    ] Locking packages...\n",
      "[   =] Locking packages...\n",
      "[  ==] Locking packages...\n",
      "[ ===] Locking packages...\n",
      "[====] Locking packages...\n",
      "[=== ] Locking packages...\n",
      "[=   ] Locking packages...\n",
      "[    ] Locking packages...\n",
      "[=   ] Locking packages...\n",
      "[==  ] Locking packages...\n",
      "[=== ] Locking packages...\n",
      "[ ===] Locking packages...\n",
      "[   =] Locking packages...\n",
      "[    ] Locking packages...\n",
      "[   =] Locking packages...\n",
      "[  ==] Locking packages...\n",
      "[ ===] Locking packages...\n",
      "[====] Locking packages...\n",
      "[==  ] Locking packages...\n",
      "[=   ] Locking packages...\n",
      "[    ] Locking packages...\n",
      "[=   ] Locking packages...\n",
      "[==  ] Locking packages...\n",
      "[=== ] Locking packages...\n",
      "[ ===] Locking packages...\n",
      "[   =] Locking packages...\n",
      "[    ] Locking packages...\n",
      "[   =] Locking packages...\n",
      "[  ==] Locking packages...\n",
      "[ ===] Locking packages...\n",
      "[====] Locking packages...\n",
      "[==  ] Locking packages...\n",
      "[=   ] Locking packages...\n",
      "[    ] Locking packages...\n",
      "[=   ] Locking packages...\n",
      "[==  ] Locking packages...\n",
      "[ ===] Locking packages...\n",
      "[  ==] Locking packages...\n",
      "[   =] Locking packages...\n",
      "[    ] Locking packages...\n",
      "[   =] Locking packages...\n",
      "[  ==] Locking packages...\n",
      "[====] Locking packages...\n",
      "[=== ] Locking packages...\n",
      "[==  ] Locking packages...\n",
      "[=   ] Locking packages...\n",
      "[    ] Locking packages...\n",
      "[=   ] Locking packages...\n",
      "[=== ] Locking packages...\n",
      "[ ===] Locking packages...\n",
      "[  ==] Locking packages...\n",
      "[   =] Locking packages...\n",
      "[    ] Locking packages...\n",
      "[   =] Locking packages...\n",
      "[ ===] Locking packages...\n",
      "[====] Locking packages...\n",
      "[=== ] Locking packages...\n",
      "[==  ] Locking packages...\n",
      "[=   ] Locking packages...\n",
      "[    ] Locking packages...\n",
      "[==  ] Locking packages...\n",
      "[=== ] Locking packages...\n",
      "[ ===] Locking packages...\n",
      "[  ==] Locking packages...\n",
      "[   =] Locking packages...\n",
      "[   =] Locking packages...\n",
      "[  ==] Locking packages...\n",
      "[ ===] Locking packages...\n",
      "[====] Locking packages...\n",
      "[=== ] Locking packages...\n",
      "[==  ] Locking packages...\n",
      "[    ] Locking packages...\n",
      "[=   ] Locking packages...\n",
      "[==  ] Locking packages...\n",
      "[=== ] Locking packages...\n",
      "[ ===] Locking packages...\n",
      "[  ==] Locking packages...\n",
      "[    ] Locking packages...\n",
      "[   =] Locking packages...\n",
      "[  ==] Locking packages...\n",
      "[ ===] Locking packages...\n",
      "[====] Locking packages...\n",
      "[=== ] Locking packages...\n",
      "[=   ] Locking packages...\n",
      "[    ] Locking packages...\n",
      "[=   ] Locking packages...\n",
      "[==  ] Locking packages...\n",
      "[=== ] Locking packages...\n",
      "[ ===] Locking packages...\n",
      "[   =] Locking packages...\n",
      "[    ] Locking packages...\n",
      "[   =] Locking packages...\n",
      "[  ==] Locking packages...\n",
      "[ ===] Locking packages...\n",
      "[====] Locking packages...\n",
      "[==  ] Locking packages...\n",
      "[=   ] Locking packages...\n",
      "[    ] Locking packages...\n",
      "[=   ] Locking packages...\n",
      "[==  ] Locking packages...\n",
      "[ ===] Locking packages...\n",
      "[  ==] Locking packages...\n",
      "[   =] Locking packages...\n",
      "[    ] Locking packages...\n",
      "[   =] Locking packages...\n",
      "[  ==] Locking packages...\n",
      "[====] Locking packages...\n",
      "[=== ] Locking packages...\n",
      "[==  ] Locking packages...\n",
      "[=   ] Locking packages...\n",
      "[    ] Locking packages...\n",
      "[=   ] Locking packages...\n",
      "[==  ] Locking packages...\n",
      "[ ===] Locking packages...\n",
      "[  ==] Locking packages...\n",
      "[   =] Locking packages...\n",
      "[    ] Locking packages...\n",
      "[   =] Locking packages...\n",
      "[  ==] Locking packages...\n",
      "[====] Locking packages...\n",
      "[=== ] Locking packages...\n",
      "[==  ] Locking packages...\n",
      "[=   ] Locking packages...\n",
      "[    ] Locking packages...\n",
      "[=   ] Locking packages...\n",
      "[=== ] Locking packages...\n",
      "[ ===] Locking packages...\n",
      "[  ==] Locking packages...\n",
      "[   =] Locking packages...\n",
      "[    ] Locking packages...\n",
      "[   =] Locking packages...\n",
      "[ ===] Locking packages...\n",
      "[====] Locking packages...\n",
      "[=== ] Locking packages...\n",
      "[==  ] Locking packages...\n",
      "[=   ] Locking packages...\n",
      "[=   ] Locking packages...\n",
      "[==  ] Locking packages...\n",
      "[=== ] Locking packages...\n",
      "[ ===] Locking packages...\n",
      "[  ==] Locking packages...\n",
      "[   =] Locking packages...\n",
      "[   =] Locking packages...\n",
      "[  ==] Locking packages...\n",
      "[ ===] Locking packages...\n",
      "[====] Locking packages...\n",
      "[=== ] Locking packages...\n",
      "[==  ] Locking packages...\n",
      "[    ] Locking packages...\n",
      "[=   ] Locking packages...\n",
      "[==  ] Locking packages...\n",
      "[=== ] Locking packages...\n",
      "[ ===] Locking packages...\n",
      "[  ==] Locking packages...\n",
      "[    ] Locking packages...\n",
      "[   =] Locking packages...\n",
      "[  ==] Locking packages...\n",
      "[ ===] Locking packages...\n",
      "[====] Locking packages...\n",
      "[=== ] Locking packages...\n",
      "[=   ] Locking packages...\n",
      "[    ] Locking packages...\n",
      "[=   ] Locking packages...\n",
      "[==  ] Locking packages...\n",
      "[=== ] Locking packages...\n",
      "[  ==] Locking packages...\n",
      "[   =] Locking packages...\n",
      "[    ] Locking packages...\n",
      "[   =] Locking packages...\n",
      "[  ==] Locking packages...\n",
      "[ ===] Locking packages...\n",
      "[=== ] Locking packages...\n",
      "[==  ] Locking packages...\n",
      "[=   ] Locking packages...\n",
      "[    ] Locking packages...\n",
      "[=   ] Locking packages...\n",
      "[==  ] Locking packages...\n",
      "[=== ] Locking packages...\n",
      "[  ==] Locking packages...\n",
      "Success!\n",
      "[  ==] Locking packages...\n",
      "[  ==] Locking packages...\n",
      "\n",
      "Building requirements...\n",
      "[    ] Locking packages...\n",
      "Resolving dependencies...\n",
      "[    ] Locking packages...\n",
      "[    ] Locking packages...\n",
      "[==  ] Locking packages...\n",
      "[=== ] Locking packages...\n",
      "[ ===] Locking packages...\n",
      "[  ==] Locking packages...\n",
      "[   =] Locking packages...\n",
      "[   =] Locking packages...\n",
      "[  ==] Locking packages...\n",
      "[ ===] Locking packages...\n",
      "[====] Locking packages...\n",
      "[=== ] Locking packages...\n",
      "[==  ] Locking packages...\n",
      "[    ] Locking packages...\n",
      "[=   ] Locking packages...\n",
      "[==  ] Locking packages...\n",
      "[=== ] Locking packages...\n",
      "[ ===] Locking packages...\n",
      "[  ==] Locking packages...\n",
      "[    ] Locking packages...\n",
      "[   =] Locking packages...\n",
      "[  ==] Locking packages...\n",
      "[ ===] Locking packages...\n",
      "[====] Locking packages...\n",
      "[=== ] Locking packages...\n",
      "[=   ] Locking packages...\n",
      "[    ] Locking packages...\n",
      "[=   ] Locking packages...\n",
      "[==  ] Locking packages...\n",
      "[=== ] Locking packages...\n",
      "[ ===] Locking packages...\n",
      "[   =] Locking packages...\n",
      "[    ] Locking packages...\n",
      "[   =] Locking packages...\n",
      "[  ==] Locking packages...\n",
      "[ ===] Locking packages...\n",
      "[====] Locking packages...\n",
      "[=== ] Locking packages...\n",
      "[=   ] Locking packages...\n",
      "[    ] Locking packages...\n",
      "[=   ] Locking packages...\n",
      "[==  ] Locking packages...\n",
      "[=== ] Locking packages...\n",
      "[  ==] Locking packages...\n",
      "[  ==] Locking packages...\n",
      "[    ] Locking packages...\n",
      "[   =] Locking packages...\n",
      "[  ==] Locking packages...\n",
      "[ ===] Locking packages...\n",
      "[====] Locking packages...\n",
      "[==  ] Locking packages...\n",
      "[=   ] Locking packages...\n",
      "[    ] Locking packages...\n",
      "[=   ] Locking packages...\n",
      "[==  ] Locking packages...\n",
      "[=== ] Locking packages...\n",
      "[  ==] Locking packages...\n",
      "[   =] Locking packages...\n",
      "[    ] Locking packages...\n",
      "[   =] Locking packages...\n",
      "[  ==] Locking packages...\n",
      "[ ===] Locking packages...\n",
      "[====] Locking packages...\n",
      "[==  ] Locking packages...\n",
      "[=   ] Locking packages...\n",
      "[    ] Locking packages...\n",
      "[=   ] Locking packages...\n",
      "[==  ] Locking packages...\n",
      "[=== ] Locking packages...\n",
      "[  ==] Locking packages...\n",
      "[   =] Locking packages...\n",
      "[    ] Locking packages...\n",
      "[   =] Locking packages...\n",
      "[  ==] Locking packages...\n",
      "[ ===] Locking packages...\n",
      "[=== ] Locking packages...\n",
      "[==  ] Locking packages...\n",
      "[=   ] Locking packages...\n",
      "[    ] Locking packages...\n",
      "[=   ] Locking packages...\n",
      "[==  ] Locking packages...\n",
      "[ ===] Locking packages...\n",
      "[  ==] Locking packages...\n",
      "[   =] Locking packages...\n",
      "[    ] Locking packages...\n",
      "[   =] Locking packages...\n",
      "[ ===] Locking packages...\n",
      "[====] Locking packages...\n",
      "[=== ] Locking packages...\n",
      "[==  ] Locking packages...\n",
      "[=   ] Locking packages...\n",
      "[    ] Locking packages...\n",
      "[=   ] Locking packages...\n",
      "[=== ] Locking packages...\n",
      "[ ===] Locking packages...\n",
      "[  ==] Locking packages...\n",
      "[   =] Locking packages...\n",
      "[    ] Locking packages...\n",
      "[   =] Locking packages...\n",
      "[ ===] Locking packages...\n",
      "[====] Locking packages...\n",
      "[=== ] Locking packages...\n",
      "[==  ] Locking packages...\n",
      "[=   ] Locking packages...\n",
      "[    ] Locking packages...\n",
      "[==  ] Locking packages...\n",
      "[=== ] Locking packages...\n",
      "[ ===] Locking packages...\n",
      "[  ==] Locking packages...\n",
      "[   =] Locking packages...\n",
      "[    ] Locking packages...\n",
      "[  ==] Locking packages...\n",
      "[ ===] Locking packages...\n",
      "[====] Locking packages...\n",
      "[=== ] Locking packages...\n",
      "[==  ] Locking packages...\n",
      "[=   ] Locking packages...\n",
      "[=   ] Locking packages...\n",
      "[==  ] Locking packages...\n",
      "[=== ] Locking packages...\n",
      "[ ===] Locking packages...\n",
      "[  ==] Locking packages...\n",
      "[   =] Locking packages...\n",
      "[    ] Locking packages...\n",
      "[  ==] Locking packages...\n",
      "[ ===] Locking packages...\n",
      "[====] Locking packages...\n",
      "[=== ] Locking packages...\n",
      "[==  ] Locking packages...\n",
      "[    ] Locking packages...\n",
      "[=   ] Locking packages...\n",
      "[==  ] Locking packages...\n",
      "[=== ] Locking packages...\n",
      "[ ===] Locking packages...\n",
      "[  ==] Locking packages...\n",
      "[    ] Locking packages...\n",
      "[   =] Locking packages...\n",
      "[  ==] Locking packages...\n",
      "[ ===] Locking packages...\n",
      "[====] Locking packages...\n",
      "[=== ] Locking packages...\n",
      "[=   ] Locking packages...\n",
      "[    ] Locking packages...\n",
      "[=   ] Locking packages...\n",
      "[==  ] Locking packages...\n",
      "[=== ] Locking packages...\n",
      "[  ==] Locking packages...\n",
      "[   =] Locking packages...\n",
      "[    ] Locking packages...\n",
      "[   =] Locking packages...\n",
      "[  ==] Locking packages...\n",
      "[ ===] Locking packages...\n",
      "[=== ] Locking packages...\n",
      "[==  ] Locking packages...\n",
      "[=   ] Locking packages...\n",
      "[    ] Locking packages...\n",
      "[=   ] Locking packages...\n",
      "[=== ] Locking packages...\n",
      "[ ===] Locking packages...\n",
      "[  ==] Locking packages...\n",
      "[   =] Locking packages...\n",
      "[    ] Locking packages...\n",
      "[   =] Locking packages...\n",
      "[  ==] Locking packages...\n",
      "[====] Locking packages...\n",
      "[=== ] Locking packages...\n",
      "[==  ] Locking packages...\n",
      "[=   ] Locking packages...\n",
      "[    ] Locking packages...\n",
      "[=   ] Locking packages...\n",
      "[==  ] Locking packages...\n",
      "[ ===] Locking packages...\n",
      "[  ==] Locking packages...\n",
      "[   =] Locking packages...\n",
      "[    ] Locking packages...\n",
      "[   =] Locking packages...\n",
      "[  ==] Locking packages...\n",
      "[ ===] Locking packages...\n",
      "[=== ] Locking packages...\n",
      "[==  ] Locking packages...\n",
      "[=   ] Locking packages...\n",
      "[    ] Locking packages...\n",
      "[=   ] Locking packages...\n",
      "[==  ] Locking packages...\n",
      "[ ===] Locking packages...\n",
      "[  ==] Locking packages...\n",
      "[   =] Locking packages...\n",
      "[    ] Locking packages...\n",
      "[   =] Locking packages...\n",
      "Success!\n",
      "[  ==] Locking packages...\n",
      "[  ==] Locking packages...\n",
      "\n",
      "To activate this project's virtualenv, run pipenv shell.\n",
      "Alternatively, run a command inside the virtualenv with pipenv run.\n",
      "Installing dependencies from Pipfile.lock (344639)...\n",
      "All dependencies are now up-to-date!\n",
      "Installing dependencies from Pipfile.lock (344639)...\n"
     ]
    }
   ],
   "source": [
    "! pipenv install scikit-learn==1.5.2"
   ]
  },
  {
   "cell_type": "markdown",
   "metadata": {},
   "source": [
    "**ANS:** _sha256:03b6158efa3faaf1feea3faa884c840ebd61b6484167c711548fce208ea09445_"
   ]
  },
  {
   "cell_type": "markdown",
   "metadata": {},
   "source": [
    "## Models\n",
    "\n",
    "We've prepared a dictionary vectorizer and a model.\n",
    "\n",
    "They were trained (roughly) using this code:\n",
    "\n",
    "```python\n",
    "features = ['job', 'duration', 'poutcome']\n",
    "dicts = df[features].to_dict(orient='records')\n",
    "\n",
    "dv = DictVectorizer(sparse=False)\n",
    "X = dv.fit_transform(dicts)\n",
    "\n",
    "model = LogisticRegression().fit(X, y)\n",
    "```\n",
    "\n",
    "> **Note**: You don't need to train the model. This code is just for your reference.\n",
    "\n",
    "And then saved with Pickle. Download them:\n",
    "\n",
    "* [DictVectorizer](https://github.com/DataTalksClub/machine-learning-zoomcamp/tree/master/cohorts/2024/05-deployment/homework/dv.bin?raw=true)\n",
    "* [LogisticRegression](https://github.com/DataTalksClub/machine-learning-zoomcamp/tree/master/cohorts/2024/05-deployment/homework/model1.bin?raw=true)\n",
    "\n",
    "With `wget`:\n",
    "\n",
    "```bash\n",
    "PREFIX=https://raw.githubusercontent.com/DataTalksClub/machine-learning-zoomcamp/master/cohorts/2024/05-deployment/homework\n",
    "wget $PREFIX/model1.bin\n",
    "wget $PREFIX/dv.bin\n",
    "```"
   ]
  },
  {
   "cell_type": "code",
   "execution_count": 9,
   "metadata": {},
   "outputs": [],
   "source": [
    "import pickle"
   ]
  },
  {
   "cell_type": "code",
   "execution_count": 10,
   "metadata": {},
   "outputs": [
    {
     "name": "stderr",
     "output_type": "stream",
     "text": [
      "c:\\Users\\oluwa\\.conda\\envs\\ml-zoomcamp\\Lib\\site-packages\\sklearn\\base.py:376: InconsistentVersionWarning: Trying to unpickle estimator LogisticRegression from version 1.5.2 when using version 1.5.1. This might lead to breaking code or invalid results. Use at your own risk. For more info please refer to:\n",
      "https://scikit-learn.org/stable/model_persistence.html#security-maintainability-limitations\n",
      "  warnings.warn(\n"
     ]
    }
   ],
   "source": [
    "with open('model1.bin', 'rb') as f_in:\n",
    "    model = pickle.load(f_in)"
   ]
  },
  {
   "cell_type": "code",
   "execution_count": 14,
   "metadata": {},
   "outputs": [
    {
     "name": "stderr",
     "output_type": "stream",
     "text": [
      "c:\\Users\\oluwa\\.conda\\envs\\ml-zoomcamp\\Lib\\site-packages\\sklearn\\base.py:376: InconsistentVersionWarning: Trying to unpickle estimator DictVectorizer from version 1.5.2 when using version 1.5.1. This might lead to breaking code or invalid results. Use at your own risk. For more info please refer to:\n",
      "https://scikit-learn.org/stable/model_persistence.html#security-maintainability-limitations\n",
      "  warnings.warn(\n"
     ]
    }
   ],
   "source": [
    "with open('dv.bin', 'rb') as f_in:\n",
    "    dv = pickle.load(f_in)"
   ]
  },
  {
   "cell_type": "markdown",
   "metadata": {},
   "source": [
    "## Question 3\n",
    "\n",
    "Let's use these models!\n",
    "\n",
    "* Write a script for loading these models with pickle\n",
    "* Score this client:\n",
    "\n",
    "```json\n",
    "{\"job\": \"management\", \"duration\": 400, \"poutcome\": \"success\"}\n",
    "```\n",
    "\n",
    "What's the probability that this client will get a subscription? \n",
    "\n",
    "* 0.359\n",
    "* 0.559\n",
    "* 0.759\n",
    "* 0.959\n",
    "\n",
    "If you're getting errors when unpickling the files, check their checksum:\n",
    "\n",
    "```bash\n",
    "$ md5sum model1.bin dv.bin\n",
    "3d8bb28974e55edefa000fe38fd3ed12  model1.bin\n",
    "7d37616e00aa80f2152b8b0511fc2dff  dv.bin\n",
    "```"
   ]
  },
  {
   "cell_type": "code",
   "execution_count": 17,
   "metadata": {},
   "outputs": [
    {
     "data": {
      "text/plain": [
       "array([0.75909665])"
      ]
     },
     "execution_count": 17,
     "metadata": {},
     "output_type": "execute_result"
    }
   ],
   "source": [
    "client = {\"job\": \"management\", \"duration\": 400, \"poutcome\": \"success\"}\n",
    "\n",
    "trans = dv.transform(client)\n",
    "model.predict_proba(trans)[:, 1]"
   ]
  },
  {
   "cell_type": "markdown",
   "metadata": {},
   "source": [
    "**Ans:** _0.759_"
   ]
  },
  {
   "cell_type": "markdown",
   "metadata": {},
   "source": [
    "## Question 4\n",
    "\n",
    "Now let's serve this model as a web service\n",
    "\n",
    "* Install Flask and gunicorn (or waitress, if you're on Windows)\n",
    "* Write Flask code for serving the model\n",
    "* Now score this client using `requests`:\n",
    "\n",
    "```python\n",
    "url = \"YOUR_URL\"\n",
    "client = {\"job\": \"student\", \"duration\": 280, \"poutcome\": \"failure\"}\n",
    "requests.post(url, json=client).json()\n",
    "```\n",
    "\n",
    "What's the probability that this client will get a subscription?\n",
    "\n",
    "* 0.335\n",
    "* 0.535\n",
    "* 0.735\n",
    "* 0.935"
   ]
  },
  {
   "cell_type": "code",
   "execution_count": 33,
   "metadata": {},
   "outputs": [],
   "source": [
    "import requests"
   ]
  },
  {
   "cell_type": "code",
   "execution_count": 29,
   "metadata": {},
   "outputs": [],
   "source": [
    "client = {\"job\": \"student\", \"duration\": 280, \"poutcome\": \"failure\"}"
   ]
  },
  {
   "cell_type": "code",
   "execution_count": 30,
   "metadata": {},
   "outputs": [],
   "source": [
    "url = \"http://localhost:9696/run\""
   ]
  },
  {
   "cell_type": "code",
   "execution_count": 34,
   "metadata": {},
   "outputs": [],
   "source": [
    "response = requests.post(url, json=client).json()"
   ]
  },
  {
   "cell_type": "code",
   "execution_count": 35,
   "metadata": {},
   "outputs": [
    {
     "data": {
      "text/plain": [
       "{'Decision': False, 'Probability': 0.33480703475511053}"
      ]
     },
     "execution_count": 35,
     "metadata": {},
     "output_type": "execute_result"
    }
   ],
   "source": [
    "response"
   ]
  },
  {
   "cell_type": "markdown",
   "metadata": {},
   "source": [
    "## Docker\n",
    "\n",
    "Install [Docker](https://github.com/DataTalksClub/machine-learning-zoomcamp/blob/master/05-deployment/06-docker.md). \n",
    "We will use it for the next two questions.\n",
    "\n",
    "For these questions, we prepared a base image: `svizor/zoomcamp-model:3.11.5-slim`. \n",
    "You'll need to use it (see Question 5 for an example).\n",
    "\n",
    "This image is based on `python:3.11.5-slim` and has a logistic regression model \n",
    "(a different one) as well a dictionary vectorizer inside. \n",
    "\n",
    "This is how the Dockerfile for this image looks like:\n",
    "\n",
    "```docker \n",
    "FROM python:3.11.5-slim\n",
    "WORKDIR /app\n",
    "COPY [\"model2.bin\", \"dv.bin\", \"./\"]\n",
    "```\n",
    "\n",
    "We already built it and then pushed it to [`svizor/zoomcamp-model:3.11.5-slim`](https://hub.docker.com/r/svizor/zoomcamp-model).\n",
    "\n",
    "> **Note**: You don't need to build this docker image, it's just for your reference."
   ]
  },
  {
   "cell_type": "markdown",
   "metadata": {},
   "source": [
    "## Question 5\n",
    "\n",
    "Download the base image `svizor/zoomcamp-model:3.11.5-slim`. You can easily make it by using [docker pull](https://docs.docker.com/engine/reference/commandline/pull/) command.\n",
    "\n",
    "So what's the size of this base image?\n",
    "\n",
    "* 45 MB\n",
    "* 130 MB\n",
    "* 245 MB\n",
    "* 330 MB\n",
    "\n",
    "You can get this information when running `docker images` - it'll be in the \"SIZE\" column."
   ]
  },
  {
   "cell_type": "code",
   "execution_count": 36,
   "metadata": {},
   "outputs": [
    {
     "name": "stdout",
     "output_type": "stream",
     "text": [
      "3.11.5-slim: Pulling from svizor/zoomcamp-model\n",
      "a803e7c4b030: Pulling fs layer\n",
      "bf3336e84c8e: Pulling fs layer\n",
      "eb76b60fbb0c: Pulling fs layer\n",
      "a2cee97f4fbd: Pulling fs layer\n",
      "0358d4e17ae3: Pulling fs layer\n",
      "fb37f8d7a667: Pulling fs layer\n",
      "4e69cd59a5af: Pulling fs layer\n",
      "0358d4e17ae3: Waiting\n",
      "fb37f8d7a667: Waiting\n",
      "4e69cd59a5af: Waiting\n",
      "a2cee97f4fbd: Waiting\n",
      "bf3336e84c8e: Verifying Checksum\n",
      "bf3336e84c8e: Download complete\n",
      "a2cee97f4fbd: Download complete\n",
      "0358d4e17ae3: Verifying Checksum\n",
      "0358d4e17ae3: Download complete\n",
      "fb37f8d7a667: Verifying Checksum\n",
      "fb37f8d7a667: Download complete\n",
      "4e69cd59a5af: Download complete\n",
      "eb76b60fbb0c: Verifying Checksum\n",
      "eb76b60fbb0c: Download complete\n",
      "a803e7c4b030: Verifying Checksum\n",
      "a803e7c4b030: Download complete\n",
      "a803e7c4b030: Pull complete\n",
      "bf3336e84c8e: Pull complete\n",
      "eb76b60fbb0c: Pull complete\n",
      "a2cee97f4fbd: Pull complete\n",
      "0358d4e17ae3: Pull complete\n",
      "fb37f8d7a667: Pull complete\n",
      "4e69cd59a5af: Pull complete\n",
      "Digest: sha256:15d61790363f892dfdef55f47b78feed751cb59704d47ea911df0ef3e9300c06\n",
      "Status: Downloaded newer image for svizor/zoomcamp-model:3.11.5-slim\n",
      "docker.io/svizor/zoomcamp-model:3.11.5-slim\n"
     ]
    }
   ],
   "source": [
    "! docker pull svizor/zoomcamp-model:3.11.5-slim"
   ]
  },
  {
   "cell_type": "code",
   "execution_count": 37,
   "metadata": {},
   "outputs": [
    {
     "name": "stdout",
     "output_type": "stream",
     "text": [
      "REPOSITORY                                      TAG           IMAGE ID       CREATED        SIZE\n",
      "zoomcamp                                        latest        678481ff22c8   45 hours ago   429MB\n",
      "svizor/zoomcamp-model                           3.11.5-slim   975e7bdca086   9 days ago     130MB\n",
      "streamlit-app                                   latest        9f154fde93f7   2 months ago   745MB\n",
      "gcr.io/deployment-432907/streamlit-app          latest        9f154fde93f7   2 months ago   745MB\n",
      "gcr.io/deployment-432907/streamlit-app          <none>        c0ab239e59b1   2 months ago   745MB\n",
      "docker.elastic.co/elasticsearch/elasticsearch   8.4.3         ce2b9dc7fe85   2 years ago    1.26GB\n",
      "elasticsearch                                   8.4.3         ce2b9dc7fe85   2 years ago    1.26GB\n"
     ]
    }
   ],
   "source": [
    "! docker images"
   ]
  },
  {
   "cell_type": "markdown",
   "metadata": {},
   "source": [
    "**ANS**: _130MB_"
   ]
  },
  {
   "cell_type": "markdown",
   "metadata": {},
   "source": [
    "## Dockerfile\n",
    "\n",
    "Now create your own Dockerfile based on the image we prepared.\n",
    "\n",
    "It should start like that:\n",
    "\n",
    "```docker\n",
    "FROM svizor/zoomcamp-model:3.11.5-slim\n",
    "# add your stuff here\n",
    "```\n",
    "\n",
    "Now complete it:\n",
    "\n",
    "* Install all the dependencies form the Pipenv file\n",
    "* Copy your Flask script\n",
    "* Run it with Gunicorn \n",
    "\n",
    "After that, you can build your docker image."
   ]
  },
  {
   "cell_type": "markdown",
   "metadata": {},
   "source": [
    "## Question 6\n",
    "\n",
    "Let's run your docker container!\n",
    "\n",
    "After running it, score this client once again:\n",
    "\n",
    "```python\n",
    "url = \"YOUR_URL\"\n",
    "client = {\"job\": \"management\", \"duration\": 400, \"poutcome\": \"success\"}\n",
    "requests.post(url, json=client).json()\n",
    "```\n",
    "\n",
    "What's the probability that this client will get a subscription now?\n",
    "\n",
    "* 0.287\n",
    "* 0.530\n",
    "* 0.757\n",
    "* 0.960"
   ]
  },
  {
   "cell_type": "code",
   "execution_count": 43,
   "metadata": {},
   "outputs": [],
   "source": [
    "url = \"http://localhost:9696/run\""
   ]
  },
  {
   "cell_type": "code",
   "execution_count": 44,
   "metadata": {},
   "outputs": [],
   "source": [
    "client2 = {\"job\": \"management\", \"duration\": 400, \"poutcome\": \"success\"}"
   ]
  },
  {
   "cell_type": "code",
   "execution_count": 45,
   "metadata": {},
   "outputs": [],
   "source": [
    "ans = requests.post(url, json=client2).json()"
   ]
  },
  {
   "cell_type": "code",
   "execution_count": 46,
   "metadata": {},
   "outputs": [
    {
     "data": {
      "text/plain": [
       "{'Decision': True, 'Probability': 0.756743795240796}"
      ]
     },
     "execution_count": 46,
     "metadata": {},
     "output_type": "execute_result"
    }
   ],
   "source": [
    "ans"
   ]
  },
  {
   "cell_type": "markdown",
   "metadata": {},
   "source": [
    "**Ans**: _0.75_"
   ]
  }
 ],
 "metadata": {
  "kernelspec": {
   "display_name": "ml-zoomcamp",
   "language": "python",
   "name": "python3"
  },
  "language_info": {
   "codemirror_mode": {
    "name": "ipython",
    "version": 3
   },
   "file_extension": ".py",
   "mimetype": "text/x-python",
   "name": "python",
   "nbconvert_exporter": "python",
   "pygments_lexer": "ipython3",
   "version": "3.11.9"
  }
 },
 "nbformat": 4,
 "nbformat_minor": 2
}
